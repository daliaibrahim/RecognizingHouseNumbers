{
  "nbformat": 4,
  "nbformat_minor": 0,
  "metadata": {
    "colab": {
      "name": "A4",
      "version": "0.3.2",
      "provenance": [],
      "collapsed_sections": [],
      "include_colab_link": true
    },
    "kernelspec": {
      "name": "python3",
      "display_name": "Python 3"
    }
  },
  "cells": [
    {
      "cell_type": "markdown",
      "metadata": {
        "id": "view-in-github",
        "colab_type": "text"
      },
      "source": [
        "<a href=\"https://colab.research.google.com/github/daliaibrahim/RecognizingHouseNumbers/blob/master/A4.ipynb\" target=\"_parent\"><img src=\"https://colab.research.google.com/assets/colab-badge.svg\" alt=\"Open In Colab\"/></a>"
      ]
    },
    {
      "metadata": {
        "id": "rr2aRQAw776c",
        "colab_type": "code",
        "outputId": "1305e50f-03a9-4308-9b1a-9681c8f11dc9",
        "colab": {
          "base_uri": "https://localhost:8080/",
          "height": 392
        }
      },
      "cell_type": "code",
      "source": [
        "!pip install tensorflow\n"
      ],
      "execution_count": 0,
      "outputs": [
        {
          "output_type": "stream",
          "text": [
            "Requirement already satisfied: tensorflow in /usr/local/lib/python3.6/dist-packages (1.13.1)\n",
            "Requirement already satisfied: six>=1.10.0 in /usr/local/lib/python3.6/dist-packages (from tensorflow) (1.11.0)\n",
            "Requirement already satisfied: keras-preprocessing>=1.0.5 in /usr/local/lib/python3.6/dist-packages (from tensorflow) (1.0.9)\n",
            "Requirement already satisfied: protobuf>=3.6.1 in /usr/local/lib/python3.6/dist-packages (from tensorflow) (3.7.0)\n",
            "Requirement already satisfied: numpy>=1.13.3 in /usr/local/lib/python3.6/dist-packages (from tensorflow) (1.14.6)\n",
            "Requirement already satisfied: gast>=0.2.0 in /usr/local/lib/python3.6/dist-packages (from tensorflow) (0.2.2)\n",
            "Requirement already satisfied: tensorboard<1.14.0,>=1.13.0 in /usr/local/lib/python3.6/dist-packages (from tensorflow) (1.13.1)\n",
            "Requirement already satisfied: termcolor>=1.1.0 in /usr/local/lib/python3.6/dist-packages (from tensorflow) (1.1.0)\n",
            "Requirement already satisfied: wheel>=0.26 in /usr/local/lib/python3.6/dist-packages (from tensorflow) (0.33.1)\n",
            "Requirement already satisfied: astor>=0.6.0 in /usr/local/lib/python3.6/dist-packages (from tensorflow) (0.7.1)\n",
            "Requirement already satisfied: keras-applications>=1.0.6 in /usr/local/lib/python3.6/dist-packages (from tensorflow) (1.0.7)\n",
            "Requirement already satisfied: tensorflow-estimator<1.14.0rc0,>=1.13.0 in /usr/local/lib/python3.6/dist-packages (from tensorflow) (1.13.0)\n",
            "Requirement already satisfied: grpcio>=1.8.6 in /usr/local/lib/python3.6/dist-packages (from tensorflow) (1.15.0)\n",
            "Requirement already satisfied: absl-py>=0.1.6 in /usr/local/lib/python3.6/dist-packages (from tensorflow) (0.7.1)\n",
            "Requirement already satisfied: setuptools in /usr/local/lib/python3.6/dist-packages (from protobuf>=3.6.1->tensorflow) (40.8.0)\n",
            "Requirement already satisfied: markdown>=2.6.8 in /usr/local/lib/python3.6/dist-packages (from tensorboard<1.14.0,>=1.13.0->tensorflow) (3.0.1)\n",
            "Requirement already satisfied: werkzeug>=0.11.15 in /usr/local/lib/python3.6/dist-packages (from tensorboard<1.14.0,>=1.13.0->tensorflow) (0.14.1)\n",
            "Requirement already satisfied: h5py in /usr/local/lib/python3.6/dist-packages (from keras-applications>=1.0.6->tensorflow) (2.8.0)\n",
            "Requirement already satisfied: mock>=2.0.0 in /usr/local/lib/python3.6/dist-packages (from tensorflow-estimator<1.14.0rc0,>=1.13.0->tensorflow) (2.0.0)\n",
            "Requirement already satisfied: pbr>=0.11 in /usr/local/lib/python3.6/dist-packages (from mock>=2.0.0->tensorflow-estimator<1.14.0rc0,>=1.13.0->tensorflow) (5.1.3)\n"
          ],
          "name": "stdout"
        }
      ]
    },
    {
      "metadata": {
        "id": "IQVnOdpX_Z2S",
        "colab_type": "code",
        "outputId": "19c75499-9a15-4133-8e71-71ebf530579e",
        "colab": {
          "base_uri": "https://localhost:8080/",
          "height": 35
        }
      },
      "cell_type": "code",
      "source": [
        "import tensorflow as tf\n",
        "print(tf.__version__)"
      ],
      "execution_count": 0,
      "outputs": [
        {
          "output_type": "stream",
          "text": [
            "1.13.1\n"
          ],
          "name": "stdout"
        }
      ]
    },
    {
      "metadata": {
        "id": "tju8jOc39Zky",
        "colab_type": "text"
      },
      "cell_type": "markdown",
      "source": [
        "# **Introduction** "
      ]
    },
    {
      "metadata": {
        "id": "yKcLhNmt9Tug",
        "colab_type": "text"
      },
      "cell_type": "markdown",
      "source": [
        "This code uses  a deep neural network model to classify house numbers. "
      ]
    },
    {
      "metadata": {
        "id": "sFywGrBm_tY5",
        "colab_type": "code",
        "colab": {}
      },
      "cell_type": "code",
      "source": [
        "from tensorflow import keras\n",
        "from tensorflow.keras.datasets import mnist\n",
        "from tensorflow.keras.models import Sequential\n",
        "from tensorflow.keras.layers import Dense, Dropout\n",
        "from tensorflow.keras.optimizers import RMSprop\n",
        "import numpy as np\n",
        "import pandas as pd\n",
        "import scipy.io as sio\n",
        "import matplotlib.pyplot as plt\n",
        "from sklearn.model_selection import train_test_split\n",
        "from sklearn.preprocessing import OneHotEncoder\n",
        "import h5py\n",
        "from tensorflow.keras.models import Sequential\n",
        "from tensorflow.keras.layers import Dense, Dropout, Conv2D, MaxPooling2D, Flatten\n",
        "from tensorflow.keras.optimizers import RMSprop\n",
        "from tensorflow.keras import backend as K\n",
        "from google.colab import drive\n"
      ],
      "execution_count": 0,
      "outputs": []
    },
    {
      "metadata": {
        "id": "7rr-jyskNRoE",
        "colab_type": "text"
      },
      "cell_type": "markdown",
      "source": [
        "The following helper functions  are used to print images.  The original source for the functions was obtained from the [tutorial](https://bit.ly/2zLfnoP), but some slight modifications were made since the original functions generated errors in our code. "
      ]
    },
    {
      "metadata": {
        "id": "i8Sb3sA2NYYW",
        "colab_type": "code",
        "colab": {}
      },
      "cell_type": "code",
      "source": [
        "def display_sample(num,X_train_gray):\n",
        "    #Print the one-hot array of this sample's label \n",
        "    print(train_labels[num])  \n",
        "    #Print the label converted back to a number\n",
        "    label = train_labels[num].argmax(axis=0)\n",
        "    #Reshape the 768 values to a 28x28 image\n",
        "    image = X_train_gray[num].reshape([32,32])\n",
        "    plt.title('Sample: %d  Label: %d' % (num, label))\n",
        "    plt.imshow(image, cmap=plt.get_cmap('gray_r'))\n",
        "    plt.show()\n",
        "    \n",
        "########################################################################3\n",
        "def plot_image(i, predictions_array, true_label, img):\n",
        "  predictions_array, true_label, img = predictions_array[i], true_label[i], img[i]\n",
        "  plt.grid(False)\n",
        "  plt.xticks([])\n",
        "  plt.yticks([])\n",
        "  \n",
        "  img = img.reshape([32,32])\n",
        "  plt.imshow(img, cmap=plt.cm.binary)\n",
        "  \n",
        "  true_label = np.argmax(true_label)  \n",
        "  predicted_label = np.argmax(predictions_array)\n",
        "  \n",
        "  print (true_label)\n",
        "  print (predicted_label)\n",
        "  \n",
        "  if predicted_label == true_label:\n",
        "    color = 'blue'\n",
        "  else:\n",
        "    color = 'red'\n",
        "  \n",
        "  plt.xlabel(\"P={} {:2.0f}% (T={})\".format(class_names[predicted_label],\n",
        "                                100*np.max(predictions_array),\n",
        "                                class_names[true_label]),\n",
        "                                color=color)\n",
        "\n",
        "def plot_value_array(i, predictions_array, true_label):\n",
        "  predictions_array, true_label = predictions_array[i], true_label[i]\n",
        "  plt.grid(False)\n",
        "  plt.xticks([])\n",
        "  plt.yticks([])\n",
        "  thisplot = plt.bar(range(10), predictions_array, color=\"#777777\")\n",
        "  plt.ylim([0, 1]) \n",
        "  \n",
        "  predicted_label = np.argmax(predictions_array)\n",
        "  true_label = np.argmax(true_label)    \n",
        "  thisplot[predicted_label].set_color('red')\n",
        "  thisplot[true_label].set_color('blue')\n",
        "\n"
      ],
      "execution_count": 0,
      "outputs": []
    },
    {
      "metadata": {
        "id": "eLHOurwz_1hA",
        "colab_type": "text"
      },
      "cell_type": "markdown",
      "source": [
        "Load Training data\n"
      ]
    },
    {
      "metadata": {
        "id": "TC9t2uOqAG0X",
        "colab_type": "code",
        "outputId": "febe12cd-8d5b-4635-dc80-851ac0532e4a",
        "colab": {
          "base_uri": "https://localhost:8080/",
          "height": 35
        }
      },
      "cell_type": "code",
      "source": [
        "drive.mount('/content/drive')\n",
        "training_data = sio.loadmat('drive/My Drive/Colab Notebooks/train_32x32.mat')\n",
        "\n",
        "x_train = training_data['X']\n",
        "y_train = training_data['y']\n"
      ],
      "execution_count": 0,
      "outputs": [
        {
          "output_type": "stream",
          "text": [
            "Drive already mounted at /content/drive; to attempt to forcibly remount, call drive.mount(\"/content/drive\", force_remount=True).\n"
          ],
          "name": "stdout"
        }
      ]
    },
    {
      "metadata": {
        "id": "EBUL5vjVKIt9",
        "colab_type": "text"
      },
      "cell_type": "markdown",
      "source": [
        "Load Test Data"
      ]
    },
    {
      "metadata": {
        "id": "OJJ9zVhbKL0s",
        "colab_type": "code",
        "colab": {}
      },
      "cell_type": "code",
      "source": [
        "test_data= sio.loadmat('drive/My Drive/Colab Notebooks/test_32x32.mat')\n",
        "x_test = test_data['X']\n",
        "y_test = test_data['y']\n"
      ],
      "execution_count": 0,
      "outputs": []
    },
    {
      "metadata": {
        "id": "-wd6NZYTNz4C",
        "colab_type": "text"
      },
      "cell_type": "markdown",
      "source": [
        "The variable class_names is used for the printing functions in the final results display."
      ]
    },
    {
      "metadata": {
        "id": "YcCldnxkN6bs",
        "colab_type": "code",
        "colab": {}
      },
      "cell_type": "code",
      "source": [
        "class_names = ['0', '1', '2', '3', '4', \n",
        "               '5', '6', '7', '8', '9']"
      ],
      "execution_count": 0,
      "outputs": []
    },
    {
      "metadata": {
        "id": "9QJ9Onh_KVB_",
        "colab_type": "text"
      },
      "cell_type": "markdown",
      "source": [
        "Now we extract and reshape the training and Test file to the following format:\n",
        "( Num_observations, Dimensions , channels) "
      ]
    },
    {
      "metadata": {
        "id": "9NIwixvbKkRm",
        "colab_type": "code",
        "outputId": "16807a00-9243-4bfa-b4e3-a4dc92c78c6d",
        "colab": {
          "base_uri": "https://localhost:8080/",
          "height": 35
        }
      },
      "cell_type": "code",
      "source": [
        "X_train, y_train = x_train.transpose((3,0,1,2)), y_train[:,0]\n",
        "\n",
        "print( X_train.shape)\n",
        "\n",
        "X_test, y_test = x_test.transpose((3,0,1,2)), y_test[:,0]"
      ],
      "execution_count": 0,
      "outputs": [
        {
          "output_type": "stream",
          "text": [
            "(73257, 32, 32, 3)\n"
          ],
          "name": "stdout"
        }
      ]
    },
    {
      "metadata": {
        "id": "Ssk0-YRKKo21",
        "colab_type": "text"
      },
      "cell_type": "markdown",
      "source": [
        "We apply the validation set appoach  to validate the model "
      ]
    },
    {
      "metadata": {
        "id": "u6o8k5fJK004",
        "colab_type": "code",
        "outputId": "adf235f0-d360-429e-98f0-e47119558ae6",
        "colab": {
          "base_uri": "https://localhost:8080/",
          "height": 53
        }
      },
      "cell_type": "code",
      "source": [
        "X_train, X_val, y_train, y_val = train_test_split(X_train, y_train, test_size=0.1, random_state=7, stratify = y_train)\n",
        "\n",
        "print ( X_train.shape)\n",
        "print ( X_val.shape)"
      ],
      "execution_count": 0,
      "outputs": [
        {
          "output_type": "stream",
          "text": [
            "(59337, 32, 32, 3)\n",
            "(6594, 32, 32, 3)\n"
          ],
          "name": "stdout"
        }
      ]
    },
    {
      "metadata": {
        "id": "beuwYDvqK6NQ",
        "colab_type": "text"
      },
      "cell_type": "markdown",
      "source": [
        "The original labels  have 10 classes, 1 for each digit. Digit '1' has label 1, '9' has label 9 and '0' has label 10.  We use label 10 to represent 0, by converting the 10 to 0. This way, all labels  will now go from 0 to 9. "
      ]
    },
    {
      "metadata": {
        "id": "Xw97R7boLExF",
        "colab_type": "code",
        "colab": {}
      },
      "cell_type": "code",
      "source": [
        "\n",
        "y_train[y_train == 10] = 0\n",
        "y_test[y_test == 10] = 0\n",
        "\n",
        "y_val[y_val == 10] = 0\n",
        "\n"
      ],
      "execution_count": 0,
      "outputs": []
    },
    {
      "metadata": {
        "id": "1DOsES7GLqL7",
        "colab_type": "text"
      },
      "cell_type": "markdown",
      "source": [
        "# Data pre-processing "
      ]
    },
    {
      "metadata": {
        "id": "0mj1kKm2L0xN",
        "colab_type": "text"
      },
      "cell_type": "markdown",
      "source": [
        "All the images in training ,  validation and testing sets are converted to grey scale to reduce the computational time. \n",
        "\n",
        "---\n",
        "\n",
        "Afterwards, all pixels are normalized  to be between [0,1]."
      ]
    },
    {
      "metadata": {
        "id": "9BLX9YumME8W",
        "colab_type": "code",
        "colab": {}
      },
      "cell_type": "code",
      "source": [
        "X_train_gray= (np.dot(X_train, [0.2990, 0.5870, 0.1140])).astype('float32')\n",
        "X_val_gray= (np.dot(X_val, [0.2990, 0.5870, 0.1140])).astype('float32')\n",
        "X_test_gray= (np.dot(X_test, [0.2990, 0.5870, 0.1140])).astype('float32')\n",
        "\n",
        "\n",
        "X_train_gray =X_train_gray/255\n",
        "X_val_gray = X_val_gray/255\n",
        "X_test_gray =X_test_gray/255\n"
      ],
      "execution_count": 0,
      "outputs": []
    },
    {
      "metadata": {
        "id": "f0_sOPf5MvLl",
        "colab_type": "text"
      },
      "cell_type": "markdown",
      "source": [
        "Now we transform all labels from integer format to the binary format."
      ]
    },
    {
      "metadata": {
        "id": "27cwI8X9M60x",
        "colab_type": "code",
        "colab": {}
      },
      "cell_type": "code",
      "source": [
        "train_labels = keras.utils.to_categorical(y_train, 10)\n",
        "test_labels = keras.utils.to_categorical(y_test, 10)\n",
        "y_val_labels = keras.utils.to_categorical(y_val, 10)\n"
      ],
      "execution_count": 0,
      "outputs": []
    },
    {
      "metadata": {
        "id": "fl2EHJ9pM-FR",
        "colab_type": "text"
      },
      "cell_type": "markdown",
      "source": [
        "Just for testing, we print an image to confirm the success of the preprocessing steps i.e. images converted to gray scalel and pixels normalized "
      ]
    },
    {
      "metadata": {
        "id": "SRvr40kyNMsi",
        "colab_type": "code",
        "outputId": "818b07c8-a035-480b-ff8b-87cb3c8d7446",
        "colab": {
          "base_uri": "https://localhost:8080/",
          "height": 380
        }
      },
      "cell_type": "code",
      "source": [
        "display_sample(1234,X_train_gray)"
      ],
      "execution_count": 0,
      "outputs": [
        {
          "output_type": "stream",
          "text": [
            "[0. 0. 0. 0. 1. 0. 0. 0. 0. 0.]\n"
          ],
          "name": "stdout"
        },
        {
          "output_type": "display_data",
          "data": {
            "image/png": "[encoded data removed]",
            "text/plain": [
              "<Figure size 576x396 with 1 Axes>"
            ]
          },
          "metadata": {
            "tags": []
          }
        }
      ]
    },
    {
      "metadata": {
        "id": "5vg23dgnOKF1",
        "colab_type": "text"
      },
      "cell_type": "markdown",
      "source": [
        "The input shape is now constructed so that the neural network may accept the processed images."
      ]
    },
    {
      "metadata": {
        "id": "A4futbdxOSTT",
        "colab_type": "code",
        "colab": {}
      },
      "cell_type": "code",
      "source": [
        "if K.image_data_format() == 'channels_first':\n",
        "    X_train_gray = X_train_gray.reshape(X_train_gray.shape[0], 1, 32, 32)\n",
        "    X_val_gray = X_val_gray.reshape(X_val_gray.shape[0], 1, 32, 32)\n",
        "    X_test = X_test.reshape(X_test.shape[0], 1, 32, 32)\n",
        "    input_shape = (1, 32, 32)\n",
        "else:\n",
        "    X_train_gray = X_train_gray.reshape(X_train_gray.shape[0], 32, 32, 1)\n",
        "    X_test_gray = X_test_gray.reshape(X_test.shape[0], 32, 32, 1)\n",
        "    X_val_gray = X_val_gray.reshape(X_val_gray.shape[0], 32, 32, 1)\n",
        "    input_shape = (32, 32, 1)\n",
        "    "
      ],
      "execution_count": 0,
      "outputs": []
    },
    {
      "metadata": {
        "id": "r9Ck9t1nOTn3",
        "colab_type": "text"
      },
      "cell_type": "markdown",
      "source": [
        "# Network Architecture Configuration"
      ]
    },
    {
      "metadata": {
        "colab_type": "text",
        "id": "7gyPbjr_QCRC"
      },
      "cell_type": "markdown",
      "source": [
        "Using a Squential Model uses:\n",
        "\n",
        "*   4 CNN  with RELU  activation function and padding\n",
        "*   Dropout as a regularization method\n",
        "*   Softmax as  the activation  function of the last layer\n",
        "*  Adam as the optmizer and as a categorical_crossentropy loss function\n",
        "\n",
        "\n",
        "\n"
      ]
    },
    {
      "metadata": {
        "id": "-JudeeoIOniO",
        "colab_type": "code",
        "outputId": "542cd978-3715-45cf-f2a3-27bdee5383c9",
        "colab": {
          "base_uri": "https://localhost:8080/",
          "height": 461
        }
      },
      "cell_type": "code",
      "source": [
        "model = Sequential()\n",
        "model.add(Conv2D(32, kernel_size=(3, 3),\n",
        "                 activation='relu',\n",
        "                 input_shape=input_shape) )\n",
        "                 \n",
        "\n",
        "# 64 3x3 kernels\n",
        "model.add(Conv2D(64, (3, 3), activation='relu', padding = 'same'))\n",
        "model.add(Conv2D(64, (3, 3), activation='relu', padding = 'same'))\n",
        "model.add(Conv2D(64, (3, 3), activation='relu', padding = 'same'))\n",
        "\n",
        "\n",
        "# Reduce by taking the max of each 2x2 block\n",
        "model.add(MaxPooling2D(pool_size=(2, 2)))\n",
        "# Dropout to avoid overfitting\n",
        "model.add(Dropout(0.25))\n",
        "# Flatten the results to one dimension for passing into our final layer\n",
        "model.add(Flatten())\n",
        "# A hidden layer to learn with\n",
        "model.add(Dense(128, activation='relu'))\n",
        "\n",
        "# Final categorization from 0-9 with softmax\n",
        "model.add(Dense(10, activation='softmax'))\n",
        "\n",
        "###################original#############\n",
        "\n",
        "\n",
        "model.summary()\n",
        "\n",
        "model.compile(loss='categorical_crossentropy',\n",
        "              optimizer='adam',\n",
        "              metrics=['accuracy'])"
      ],
      "execution_count": 0,
      "outputs": [
        {
          "output_type": "stream",
          "text": [
            "_________________________________________________________________\n",
            "Layer (type)                 Output Shape              Param #   \n",
            "=================================================================\n",
            "conv2d_4 (Conv2D)            (None, 30, 30, 32)        320       \n",
            "_________________________________________________________________\n",
            "conv2d_5 (Conv2D)            (None, 30, 30, 64)        18496     \n",
            "_________________________________________________________________\n",
            "conv2d_6 (Conv2D)            (None, 30, 30, 64)        36928     \n",
            "_________________________________________________________________\n",
            "conv2d_7 (Conv2D)            (None, 30, 30, 64)        36928     \n",
            "_________________________________________________________________\n",
            "max_pooling2d_1 (MaxPooling2 (None, 15, 15, 64)        0         \n",
            "_________________________________________________________________\n",
            "dropout_1 (Dropout)          (None, 15, 15, 64)        0         \n",
            "_________________________________________________________________\n",
            "flatten_1 (Flatten)          (None, 14400)             0         \n",
            "_________________________________________________________________\n",
            "dense_2 (Dense)              (None, 128)               1843328   \n",
            "_________________________________________________________________\n",
            "dense_3 (Dense)              (None, 10)                1290      \n",
            "=================================================================\n",
            "Total params: 1,937,290\n",
            "Trainable params: 1,937,290\n",
            "Non-trainable params: 0\n",
            "_________________________________________________________________\n"
          ],
          "name": "stdout"
        }
      ]
    },
    {
      "metadata": {
        "id": "9BuC6KOvSd0x",
        "colab_type": "text"
      },
      "cell_type": "markdown",
      "source": [
        "#Model Training"
      ]
    },
    {
      "metadata": {
        "id": "V-_NkkuXSKYR",
        "colab_type": "text"
      },
      "cell_type": "markdown",
      "source": [
        "The model is fed with the training data, using a batch size = 100 and  10 epochs."
      ]
    },
    {
      "metadata": {
        "id": "Fg1ejTa2SMzY",
        "colab_type": "code",
        "outputId": "625ccb13-d39d-4e43-e8b2-b9d31a398917",
        "colab": {
          "base_uri": "https://localhost:8080/",
          "height": 390
        }
      },
      "cell_type": "code",
      "source": [
        "history = model.fit(X_train_gray, train_labels,\n",
        "                    batch_size=100,\n",
        "                    epochs=10,\n",
        "                    verbose=2,\n",
        "                    validation_data=(X_val_gray, y_val_labels))"
      ],
      "execution_count": 0,
      "outputs": [
        {
          "output_type": "stream",
          "text": [
            "Train on 59337 samples, validate on 6594 samples\n",
            "Epoch 1/10\n",
            " - 972s - loss: 0.9132 - acc: 0.7046 - val_loss: 0.4626 - val_acc: 0.8640\n",
            "Epoch 2/10\n",
            " - 958s - loss: 0.4092 - acc: 0.8799 - val_loss: 0.3601 - val_acc: 0.8958\n",
            "Epoch 3/10\n",
            " - 961s - loss: 0.3190 - acc: 0.9050 - val_loss: 0.3315 - val_acc: 0.9017\n",
            "Epoch 4/10\n",
            " - 961s - loss: 0.2653 - acc: 0.9212 - val_loss: 0.3658 - val_acc: 0.8990\n",
            "Epoch 5/10\n",
            " - 968s - loss: 0.2182 - acc: 0.9338 - val_loss: 0.3599 - val_acc: 0.8995\n",
            "Epoch 6/10\n",
            " - 964s - loss: 0.1869 - acc: 0.9428 - val_loss: 0.3481 - val_acc: 0.9073\n",
            "Epoch 7/10\n",
            " - 966s - loss: 0.1508 - acc: 0.9524 - val_loss: 0.3639 - val_acc: 0.9052\n",
            "Epoch 8/10\n",
            " - 968s - loss: 0.1267 - acc: 0.9599 - val_loss: 0.4063 - val_acc: 0.9001\n",
            "Epoch 9/10\n",
            " - 962s - loss: 0.1109 - acc: 0.9649 - val_loss: 0.4101 - val_acc: 0.9037\n",
            "Epoch 10/10\n",
            " - 953s - loss: 0.1019 - acc: 0.9673 - val_loss: 0.4182 - val_acc: 0.9070\n"
          ],
          "name": "stdout"
        }
      ]
    },
    {
      "metadata": {
        "id": "ITjZEAAfSnmb",
        "colab_type": "text"
      },
      "cell_type": "markdown",
      "source": [
        "# Model Testing "
      ]
    },
    {
      "metadata": {
        "id": "pEig2KLcSqCB",
        "colab_type": "code",
        "outputId": "e32f24ac-3bbe-47fb-90a9-635a65c7ec43",
        "colab": {
          "base_uri": "https://localhost:8080/",
          "height": 53
        }
      },
      "cell_type": "code",
      "source": [
        "score = model.evaluate(X_test_gray, test_labels, verbose=0)\n",
        "print('Test loss:', score[0])\n",
        "print('Test accuracy:', score[1])\n"
      ],
      "execution_count": 0,
      "outputs": [
        {
          "output_type": "stream",
          "text": [
            "Test loss: 0.469639831618134\n",
            "Test accuracy: 0.8971266\n"
          ],
          "name": "stdout"
        }
      ]
    },
    {
      "metadata": {
        "id": "ID20jFXIS8H2",
        "colab_type": "text"
      },
      "cell_type": "markdown",
      "source": [
        "Here, we obtain the Prediction for Test data set and display 15 test images with their predication "
      ]
    },
    {
      "metadata": {
        "id": "f0FObab4S8kJ",
        "colab_type": "code",
        "outputId": "10fbd385-4922-4b70-b51c-668b514a9a1c",
        "colab": {
          "base_uri": "https://localhost:8080/",
          "height": 1125
        }
      },
      "cell_type": "code",
      "source": [
        "predictions = model.predict(X_test_gray)\n",
        "\n",
        "num_rows = 5\n",
        "num_cols = 3\n",
        "num_images = num_rows*num_cols\n",
        "plt.figure(figsize=(2*2*num_cols, 2*num_rows))\n",
        "for i in range(num_images):\n",
        "  plt.subplot(num_rows, 2*num_cols, 2*i+1)\n",
        "  plot_image(i, predictions, test_labels, X_test_gray)\n",
        "  plt.subplot(num_rows, 2*num_cols, 2*i+2)\n",
        "  plot_value_array(i, predictions, test_labels)\n",
        "  plt.xticks(range(10), class_names)\n",
        "\n",
        "  \n",
        "plt.show()\n"
      ],
      "execution_count": 0,
      "outputs": [
        {
          "output_type": "stream",
          "text": [
            "5\n",
            "5\n",
            "2\n",
            "2\n",
            "1\n",
            "1\n",
            "0\n",
            "0\n",
            "6\n",
            "6\n",
            "1\n",
            "1\n",
            "9\n",
            "9\n",
            "1\n",
            "1\n",
            "1\n",
            "1\n",
            "8\n",
            "8\n",
            "3\n",
            "7\n",
            "6\n",
            "6\n",
            "5\n",
            "5\n",
            "1\n",
            "1\n",
            "4\n",
            "4\n"
          ],
          "name": "stdout"
        },
        {
          "output_type": "display_data",
          "data": {
            "image/png": "[encoded data removed]",
            "text/plain": [
              "<Figure size 864x720 with 30 Axes>"
            ]
          },
          "metadata": {
            "tags": []
          }
        }
      ]
    },
    {
      "metadata": {
        "id": "GKJzIyodSr3x",
        "colab_type": "text"
      },
      "cell_type": "markdown",
      "source": [
        "Finally, we save the model for future use."
      ]
    },
    {
      "metadata": {
        "id": "u2Nz0Qm_SynS",
        "colab_type": "code",
        "colab": {}
      },
      "cell_type": "code",
      "source": [
        "model.save('drive/My Drive/Colab Notebooks/Model.h5')"
      ],
      "execution_count": 0,
      "outputs": []
    }
  ]
}